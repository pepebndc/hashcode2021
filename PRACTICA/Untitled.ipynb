{
 "cells": [
  {
   "cell_type": "code",
   "execution_count": 1,
   "metadata": {},
   "outputs": [],
   "source": [
    "import pandas as pd\n",
    "import numpy as np\n",
    "from tqdm import tqdm\n",
    "import os"
   ]
  },
  {
   "cell_type": "code",
   "execution_count": 11,
   "metadata": {},
   "outputs": [],
   "source": [
    "def load_df(filename):\n",
    "    print(\"#\" * 25)\n",
    "    print(f\"CARGANDO DF\")\n",
    "    \n",
    "    with open(filename, \"r\") as f:\n",
    "        lines = f.readlines()\n",
    "    M, T2, T3, T4 = list(map(int, lines[0].strip().split(\" \")))\n",
    "    \n",
    "    pizza_id = 0\n",
    "    \n",
    "    df = pd.DataFrame()\n",
    "    \n",
    "    raw_data = []\n",
    "    for line_ix in tqdm(range(1, len(lines))):\n",
    "        tokens = list(map(str, lines[line_ix].strip().split(\" \")))\n",
    "        n_ing = int(tokens[0])\n",
    "        ing = tokens[1:]\n",
    "        this_id_pizza = pizza_id\n",
    "        pizza_id += 1\n",
    "        \n",
    "        data = {}\n",
    "        data[\"pizza_id\"]=this_id_pizza\n",
    "        data[\"n_ing\"]=n_ing\n",
    "    \n",
    "        for i in ing:\n",
    "            data[i] = 1\n",
    "            \n",
    "        raw_data.append(data)\n",
    "    \n",
    "    df = df.append(raw_data, ignore_index=True)\n",
    "       \n",
    "    df = df.set_index(\"pizza_id\")\n",
    "    df = df.fillna(0)\n",
    "    \n",
    "    print(\"DF cargado\")\n",
    "    return M, T2, T3, T4, df"
   ]
  },
  {
   "cell_type": "code",
   "execution_count": 34,
   "metadata": {},
   "outputs": [
    {
     "name": "stderr",
     "output_type": "stream",
     "text": [
      "100%|██████████████████████████████████████████████████████████████████████████████████| 5/5 [00:00<00:00, 4999.17it/s]"
     ]
    },
    {
     "name": "stdout",
     "output_type": "stream",
     "text": [
      "#########################\n",
      "CARGANDO DF\n",
      "DF cargado\n"
     ]
    },
    {
     "name": "stderr",
     "output_type": "stream",
     "text": [
      "\n"
     ]
    }
   ],
   "source": [
    "M, T2, T3, T4, df=load_df(\"a_example.in\")"
   ]
  },
  {
   "cell_type": "code",
   "execution_count": 35,
   "metadata": {},
   "outputs": [
    {
     "data": {
      "text/html": [
       "<div>\n",
       "<style scoped>\n",
       "    .dataframe tbody tr th:only-of-type {\n",
       "        vertical-align: middle;\n",
       "    }\n",
       "\n",
       "    .dataframe tbody tr th {\n",
       "        vertical-align: top;\n",
       "    }\n",
       "\n",
       "    .dataframe thead th {\n",
       "        text-align: right;\n",
       "    }\n",
       "</style>\n",
       "<table border=\"1\" class=\"dataframe\">\n",
       "  <thead>\n",
       "    <tr style=\"text-align: right;\">\n",
       "      <th></th>\n",
       "      <th>n_ing</th>\n",
       "      <th>onion</th>\n",
       "      <th>pepper</th>\n",
       "      <th>olive</th>\n",
       "      <th>mushroom</th>\n",
       "      <th>tomato</th>\n",
       "      <th>basil</th>\n",
       "      <th>chicken</th>\n",
       "    </tr>\n",
       "    <tr>\n",
       "      <th>pizza_id</th>\n",
       "      <th></th>\n",
       "      <th></th>\n",
       "      <th></th>\n",
       "      <th></th>\n",
       "      <th></th>\n",
       "      <th></th>\n",
       "      <th></th>\n",
       "      <th></th>\n",
       "    </tr>\n",
       "  </thead>\n",
       "  <tbody>\n",
       "    <tr>\n",
       "      <th>0</th>\n",
       "      <td>3</td>\n",
       "      <td>1.0</td>\n",
       "      <td>1.0</td>\n",
       "      <td>1.0</td>\n",
       "      <td>0.0</td>\n",
       "      <td>0.0</td>\n",
       "      <td>0.0</td>\n",
       "      <td>0.0</td>\n",
       "    </tr>\n",
       "    <tr>\n",
       "      <th>1</th>\n",
       "      <td>3</td>\n",
       "      <td>0.0</td>\n",
       "      <td>0.0</td>\n",
       "      <td>0.0</td>\n",
       "      <td>1.0</td>\n",
       "      <td>1.0</td>\n",
       "      <td>1.0</td>\n",
       "      <td>0.0</td>\n",
       "    </tr>\n",
       "    <tr>\n",
       "      <th>2</th>\n",
       "      <td>3</td>\n",
       "      <td>0.0</td>\n",
       "      <td>1.0</td>\n",
       "      <td>0.0</td>\n",
       "      <td>1.0</td>\n",
       "      <td>0.0</td>\n",
       "      <td>0.0</td>\n",
       "      <td>1.0</td>\n",
       "    </tr>\n",
       "    <tr>\n",
       "      <th>3</th>\n",
       "      <td>3</td>\n",
       "      <td>0.0</td>\n",
       "      <td>0.0</td>\n",
       "      <td>0.0</td>\n",
       "      <td>1.0</td>\n",
       "      <td>1.0</td>\n",
       "      <td>1.0</td>\n",
       "      <td>0.0</td>\n",
       "    </tr>\n",
       "    <tr>\n",
       "      <th>4</th>\n",
       "      <td>2</td>\n",
       "      <td>0.0</td>\n",
       "      <td>0.0</td>\n",
       "      <td>0.0</td>\n",
       "      <td>0.0</td>\n",
       "      <td>0.0</td>\n",
       "      <td>1.0</td>\n",
       "      <td>1.0</td>\n",
       "    </tr>\n",
       "  </tbody>\n",
       "</table>\n",
       "</div>"
      ],
      "text/plain": [
       "          n_ing  onion  pepper  olive  mushroom  tomato  basil  chicken\n",
       "pizza_id                                                               \n",
       "0             3    1.0     1.0    1.0       0.0     0.0    0.0      0.0\n",
       "1             3    0.0     0.0    0.0       1.0     1.0    1.0      0.0\n",
       "2             3    0.0     1.0    0.0       1.0     0.0    0.0      1.0\n",
       "3             3    0.0     0.0    0.0       1.0     1.0    1.0      0.0\n",
       "4             2    0.0     0.0    0.0       0.0     0.0    1.0      1.0"
      ]
     },
     "execution_count": 35,
     "metadata": {},
     "output_type": "execute_result"
    }
   ],
   "source": [
    "df.head()"
   ]
  },
  {
   "cell_type": "code",
   "execution_count": 44,
   "metadata": {},
   "outputs": [
    {
     "data": {
      "text/html": [
       "<div>\n",
       "<style scoped>\n",
       "    .dataframe tbody tr th:only-of-type {\n",
       "        vertical-align: middle;\n",
       "    }\n",
       "\n",
       "    .dataframe tbody tr th {\n",
       "        vertical-align: top;\n",
       "    }\n",
       "\n",
       "    .dataframe thead th {\n",
       "        text-align: right;\n",
       "    }\n",
       "</style>\n",
       "<table border=\"1\" class=\"dataframe\">\n",
       "  <thead>\n",
       "    <tr style=\"text-align: right;\">\n",
       "      <th></th>\n",
       "      <th>onion</th>\n",
       "      <th>pepper</th>\n",
       "      <th>olive</th>\n",
       "      <th>mushroom</th>\n",
       "      <th>tomato</th>\n",
       "      <th>basil</th>\n",
       "      <th>chicken</th>\n",
       "    </tr>\n",
       "    <tr>\n",
       "      <th>pizza_id</th>\n",
       "      <th></th>\n",
       "      <th></th>\n",
       "      <th></th>\n",
       "      <th></th>\n",
       "      <th></th>\n",
       "      <th></th>\n",
       "      <th></th>\n",
       "    </tr>\n",
       "  </thead>\n",
       "  <tbody>\n",
       "    <tr>\n",
       "      <th>0</th>\n",
       "      <td>0.0</td>\n",
       "      <td>0.0</td>\n",
       "      <td>0.0</td>\n",
       "      <td>1.0</td>\n",
       "      <td>1.0</td>\n",
       "      <td>1.0</td>\n",
       "      <td>1.0</td>\n",
       "    </tr>\n",
       "    <tr>\n",
       "      <th>1</th>\n",
       "      <td>1.0</td>\n",
       "      <td>1.0</td>\n",
       "      <td>1.0</td>\n",
       "      <td>0.0</td>\n",
       "      <td>0.0</td>\n",
       "      <td>0.0</td>\n",
       "      <td>1.0</td>\n",
       "    </tr>\n",
       "    <tr>\n",
       "      <th>2</th>\n",
       "      <td>1.0</td>\n",
       "      <td>0.0</td>\n",
       "      <td>1.0</td>\n",
       "      <td>0.0</td>\n",
       "      <td>1.0</td>\n",
       "      <td>1.0</td>\n",
       "      <td>0.0</td>\n",
       "    </tr>\n",
       "    <tr>\n",
       "      <th>3</th>\n",
       "      <td>1.0</td>\n",
       "      <td>1.0</td>\n",
       "      <td>1.0</td>\n",
       "      <td>0.0</td>\n",
       "      <td>0.0</td>\n",
       "      <td>0.0</td>\n",
       "      <td>1.0</td>\n",
       "    </tr>\n",
       "    <tr>\n",
       "      <th>4</th>\n",
       "      <td>1.0</td>\n",
       "      <td>1.0</td>\n",
       "      <td>1.0</td>\n",
       "      <td>1.0</td>\n",
       "      <td>1.0</td>\n",
       "      <td>0.0</td>\n",
       "      <td>0.0</td>\n",
       "    </tr>\n",
       "  </tbody>\n",
       "</table>\n",
       "</div>"
      ],
      "text/plain": [
       "          onion  pepper  olive  mushroom  tomato  basil  chicken\n",
       "pizza_id                                                        \n",
       "0           0.0     0.0    0.0       1.0     1.0    1.0      1.0\n",
       "1           1.0     1.0    1.0       0.0     0.0    0.0      1.0\n",
       "2           1.0     0.0    1.0       0.0     1.0    1.0      0.0\n",
       "3           1.0     1.0    1.0       0.0     0.0    0.0      1.0\n",
       "4           1.0     1.0    1.0       1.0     1.0    0.0      0.0"
      ]
     },
     "execution_count": 44,
     "metadata": {},
     "output_type": "execute_result"
    }
   ],
   "source": [
    "abs(df.iloc[:,1:]-1)"
   ]
  },
  {
   "cell_type": "code",
   "execution_count": 33,
   "metadata": {
    "scrolled": true
   },
   "outputs": [
    {
     "data": {
      "text/plain": [
       "[4, 5, 6, 7]"
      ]
     },
     "execution_count": 33,
     "metadata": {},
     "output_type": "execute_result"
    }
   ],
   "source": [
    "# df.loc[0,:]==0\n",
    "[i for i, x in enumerate(df.loc[0,:]) if not x]"
   ]
  },
  {
   "cell_type": "code",
   "execution_count": 26,
   "metadata": {},
   "outputs": [
    {
     "data": {
      "text/plain": [
       "n_ing       3.0\n",
       "onion       1.0\n",
       "pepper      1.0\n",
       "olive       1.0\n",
       "mushroom    0.0\n",
       "tomato      0.0\n",
       "basil       0.0\n",
       "chicken     0.0\n",
       "Name: 0, dtype: float64"
      ]
     },
     "execution_count": 26,
     "metadata": {},
     "output_type": "execute_result"
    }
   ],
   "source": [
    "df.loc[0,:]"
   ]
  },
  {
   "cell_type": "code",
   "execution_count": null,
   "metadata": {},
   "outputs": [],
   "source": [
    "def best_pizza(ing_list, df_pizzas):\n",
    "    for i"
   ]
  },
  {
   "cell_type": "code",
   "execution_count": 9,
   "metadata": {},
   "outputs": [],
   "source": [
    "def solver(M, T2, T3, T4, df):\n",
    "    print(f\"RESOLVIENDO\")\n",
    "#     print(M, T2*2 + T3*3 + T4*4)\n",
    "    df_sorted=df.sort_values(by=[\"n_ing\"], ascending=False)\n",
    "    indexes = list(df_sorted.index)\n",
    "    resol = []\n",
    "    print(\"procesando equipos de 4\")\n",
    "    for i in tqdm(range(0, T4)):\n",
    "        if len(indexes) < 4:\n",
    "            break\n",
    "        this_resol = [4, indexes.pop(0),indexes.pop(0),indexes.pop(0),indexes.pop(0)]\n",
    "        resol.append(this_resol)\n",
    "    \n",
    "    \n",
    "    print(\"procesando equipos de 3\")\n",
    "    for i in tqdm(range(0, T3)):\n",
    "        if len(indexes) < 3:\n",
    "            break\n",
    "        this_resol = [3, indexes.pop(0),indexes.pop(0),indexes.pop(0)]\n",
    "        resol.append(this_resol)\n",
    "        \n",
    "    \n",
    "    print(\"procesando equipos de 2\")\n",
    "    for i in tqdm(range(0, T2)):\n",
    "        if len(indexes) < 2:\n",
    "            break\n",
    "        this_resol = [2, indexes.pop(0),indexes.pop(0)]\n",
    "        resol.append(this_resol)\n",
    "        \n",
    "    print(\"PROCESADO COMPLETADO\")\n",
    "    return resol\n",
    "        \n",
    "    "
   ]
  },
  {
   "cell_type": "code",
   "execution_count": 8,
   "metadata": {},
   "outputs": [],
   "source": [
    "def output_funct(s, filename):\n",
    "    print(\"ESCRIBIENDO A FICHERO\")\n",
    "    with open(filename, \"w\") as the_file:\n",
    "        the_file.write(f\"{len(s)} \\n\")\n",
    "        for team in s:\n",
    "            the_file.write(f\"{' '.join([str(aint) for aint in team])} \\n\")"
   ]
  },
  {
   "cell_type": "code",
   "execution_count": 10,
   "metadata": {},
   "outputs": [
    {
     "name": "stderr",
     "output_type": "stream",
     "text": [
      "100%|████████████████████████████████████████████████████████████████████████████████████████████| 5/5 [00:00<?, ?it/s]\n",
      "100%|██████████████████████████████████████████████████████████████████████████████████| 1/1 [00:00<00:00, 1005.83it/s]\n",
      "  0%|                                                                                            | 0/2 [00:00<?, ?it/s]\n",
      "  0%|                                                                                            | 0/1 [00:00<?, ?it/s]\n",
      "100%|████████████████████████████████████████████████████████████████████████████| 500/500 [00:00<00:00, 125046.33it/s]\n",
      "100%|███████████████████████████████████████████████████████████████████████████████| 60/60 [00:00<00:00, 60047.30it/s]\n",
      "100%|███████████████████████████████████████████████████████████████████████████████| 60/60 [00:00<00:00, 29987.87it/s]\n",
      " 62%|████████████████████████████████████████████████▌                              | 40/65 [00:00<00:00, 40041.09it/s]\n",
      "  0%|                                                                                        | 0/10000 [00:00<?, ?it/s]"
     ]
    },
    {
     "name": "stdout",
     "output_type": "stream",
     "text": [
      "PROCESANDO FICHERO -> a_example.in\n",
      "#########################\n",
      "CARGANDO DF\n",
      "DF cargado\n",
      "RESOLVIENDO\n",
      "procesando equipos de 4\n",
      "procesando equipos de 3\n",
      "procesando equipos de 2\n",
      "PROCESADO COMPLETADO\n",
      "ESCRIBIENDO A FICHERO\n",
      "PROCESANDO FICHERO -> b_little_bit_of_everything.in\n",
      "#########################\n",
      "CARGANDO DF\n",
      "DF cargado\n",
      "RESOLVIENDO\n",
      "procesando equipos de 4\n",
      "procesando equipos de 3\n",
      "procesando equipos de 2\n",
      "PROCESADO COMPLETADO\n",
      "ESCRIBIENDO A FICHERO\n",
      "PROCESANDO FICHERO -> c_many_ingredients.in\n",
      "#########################\n",
      "CARGANDO DF\n"
     ]
    },
    {
     "name": "stderr",
     "output_type": "stream",
     "text": [
      "100%|█████████████████████████████████████████████████████████████████████████| 10000/10000 [00:00<00:00, 26969.53it/s]\n"
     ]
    },
    {
     "name": "stdout",
     "output_type": "stream",
     "text": [
      "DF cargado\n",
      "RESOLVIENDO\n"
     ]
    },
    {
     "name": "stderr",
     "output_type": "stream",
     "text": [
      "100%|█████████████████████████████████████████████████████████████████████████████| 585/585 [00:00<00:00, 65059.87it/s]\n",
      "100%|█████████████████████████████████████████████████████████████████████████████| 539/539 [00:00<00:00, 76848.52it/s]\n",
      "100%|████████████████████████████████████████████████████████████████████████████| 504/504 [00:00<00:00, 126084.29it/s]\n",
      "  0%|                                                                                       | 0/100000 [00:00<?, ?it/s]"
     ]
    },
    {
     "name": "stdout",
     "output_type": "stream",
     "text": [
      "procesando equipos de 4\n",
      "procesando equipos de 3\n",
      "procesando equipos de 2\n",
      "PROCESADO COMPLETADO\n",
      "ESCRIBIENDO A FICHERO\n",
      "PROCESANDO FICHERO -> d_many_pizzas.in\n",
      "#########################\n",
      "CARGANDO DF\n"
     ]
    },
    {
     "name": "stderr",
     "output_type": "stream",
     "text": [
      "100%|██████████████████████████████████████████████████████████████████████| 100000/100000 [00:00<00:00, 253952.14it/s]\n"
     ]
    },
    {
     "name": "stdout",
     "output_type": "stream",
     "text": [
      "DF cargado\n",
      "RESOLVIENDO\n"
     ]
    },
    {
     "name": "stderr",
     "output_type": "stream",
     "text": [
      " 20%|███████████████▍                                                             | 549/2742 [00:00<00:00, 5438.82it/s]"
     ]
    },
    {
     "name": "stdout",
     "output_type": "stream",
     "text": [
      "procesando equipos de 4\n"
     ]
    },
    {
     "name": "stderr",
     "output_type": "stream",
     "text": [
      "100%|████████████████████████████████████████████████████████████████████████████| 2742/2742 [00:00<00:00, 5542.57it/s]\n",
      " 21%|████████████████▌                                                            | 787/3661 [00:00<00:00, 7796.33it/s]"
     ]
    },
    {
     "name": "stdout",
     "output_type": "stream",
     "text": [
      "procesando equipos de 3\n"
     ]
    },
    {
     "name": "stderr",
     "output_type": "stream",
     "text": [
      "100%|████████████████████████████████████████████████████████████████████████████| 3661/3661 [00:00<00:00, 8140.17it/s]\n",
      "100%|███████████████████████████████████████████████████████████████████████████| 1696/1696 [00:00<00:00, 15712.51it/s]\n",
      "  0%|                                                                                       | 0/100000 [00:00<?, ?it/s]"
     ]
    },
    {
     "name": "stdout",
     "output_type": "stream",
     "text": [
      "procesando equipos de 2\n",
      "PROCESADO COMPLETADO\n",
      "ESCRIBIENDO A FICHERO\n",
      "PROCESANDO FICHERO -> e_many_teams.in\n",
      "#########################\n",
      "CARGANDO DF\n"
     ]
    },
    {
     "name": "stderr",
     "output_type": "stream",
     "text": [
      "100%|██████████████████████████████████████████████████████████████████████| 100000/100000 [00:00<00:00, 253807.69it/s]\n",
      "  0%|                                                                                        | 0/29832 [00:00<?, ?it/s]"
     ]
    },
    {
     "name": "stdout",
     "output_type": "stream",
     "text": [
      "DF cargado\n",
      "RESOLVIENDO\n",
      "procesando equipos de 4\n"
     ]
    },
    {
     "name": "stderr",
     "output_type": "stream",
     "text": [
      " 84%|█████████████████████████████████████████████████████████████▏           | 25000/29832 [00:02<00:00, 12189.50it/s]\n",
      "  0%|                                                                                        | 0/49195 [00:00<?, ?it/s]\n",
      "  0%|                                                                                        | 0/39748 [00:00<?, ?it/s]\n"
     ]
    },
    {
     "name": "stdout",
     "output_type": "stream",
     "text": [
      "procesando equipos de 3\n",
      "procesando equipos de 2\n",
      "PROCESADO COMPLETADO\n",
      "ESCRIBIENDO A FICHERO\n"
     ]
    }
   ],
   "source": [
    "for FILE  in os.listdir(\".\"):\n",
    "    if not FILE.endswith(\".in\"):\n",
    "        continue\n",
    "        \n",
    "    print(f\"PROCESANDO FICHERO -> {FILE}\")\n",
    "        \n",
    "    M, T2, T3, T4, df=load_df(FILE)\n",
    "    s = solver(M, T2, T3, T4, df)\n",
    "    output_funct(s, f\"{FILE}.out\")"
   ]
  }
 ],
 "metadata": {
  "kernelspec": {
   "display_name": "Python 3",
   "language": "python",
   "name": "python3"
  },
  "language_info": {
   "codemirror_mode": {
    "name": "ipython",
    "version": 3
   },
   "file_extension": ".py",
   "mimetype": "text/x-python",
   "name": "python",
   "nbconvert_exporter": "python",
   "pygments_lexer": "ipython3",
   "version": "3.8.3"
  }
 },
 "nbformat": 4,
 "nbformat_minor": 4
}
