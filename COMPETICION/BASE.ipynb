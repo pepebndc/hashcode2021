{
 "cells": [
  {
   "cell_type": "code",
   "execution_count": 1,
   "metadata": {},
   "outputs": [
    {
     "data": {
      "text/html": [
       "<style>.container { width:95% !important; }</style>"
      ],
      "text/plain": [
       "<IPython.core.display.HTML object>"
      ]
     },
     "metadata": {},
     "output_type": "display_data"
    }
   ],
   "source": [
    "from IPython.core.display import display, HTML\n",
    "display(HTML(\"<style>.container { width:95% !important; }</style>\"))"
   ]
  },
  {
   "cell_type": "code",
   "execution_count": 3,
   "metadata": {},
   "outputs": [],
   "source": [
    "import pandas as pd\n",
    "import numpy as np\n",
    "from tqdm import tqdm\n",
    "import os\n",
    "import sklearn as skl\n",
    "import sys"
   ]
  },
  {
   "cell_type": "code",
   "execution_count": 4,
   "metadata": {},
   "outputs": [],
   "source": [
    "np.set_printoptions(threshold=sys.maxsize)"
   ]
  },
  {
   "cell_type": "code",
   "execution_count": 5,
   "metadata": {},
   "outputs": [],
   "source": [
    "path = \"./data/\""
   ]
  },
  {
   "cell_type": "code",
   "execution_count": 6,
   "metadata": {},
   "outputs": [],
   "source": [
    "filename_in = filename = \"./a.txt\""
   ]
  },
  {
   "cell_type": "code",
   "execution_count": 7,
   "metadata": {},
   "outputs": [],
   "source": [
    "def file_reader(path,filename):\n",
    "    with open(path+filename, \"r\") as f:\n",
    "        lines = f.readlines()\n",
    "    D, I, S, V, F = list(map(int, lines[0].strip().split(\" \")))\n",
    "    return D, I, S, V, F, lines"
   ]
  },
  {
   "cell_type": "markdown",
   "metadata": {},
   "source": [
    "# Street Reader"
   ]
  },
  {
   "cell_type": "code",
   "execution_count": 8,
   "metadata": {},
   "outputs": [],
   "source": [
    "def street_reader(D, I, S, V, F, lines):\n",
    "#     with open(path+filename, \"r\") as f:\n",
    "#         lines = f.readlines()\n",
    "#     D, I, S, V, F = list(map(int, lines[0].strip().split(\" \")))\n",
    "    streets = pd.DataFrame()\n",
    "    raw_data = []\n",
    "    for s in tqdm(range(1,S+1)):\n",
    "        data = {}\n",
    "        elems = list(map(str, lines[s].strip().split(\" \")))\n",
    "        data['B'] = int(elems[0])\n",
    "        data['E'] = int(elems[1])\n",
    "        data['street_name'] = elems[2]\n",
    "        data['L'] = int(elems[3])\n",
    "        raw_data.append(data)\n",
    "    \n",
    "    streets = streets.append(raw_data, ignore_index=True)\n",
    "    streets = streets.astype({'B':int,'E':int,'L':int})\n",
    "    return streets"
   ]
  },
  {
   "cell_type": "markdown",
   "metadata": {},
   "source": [
    "# Read cars data"
   ]
  },
  {
   "cell_type": "code",
   "execution_count": 9,
   "metadata": {},
   "outputs": [],
   "source": [
    "def car_reader(D, I, S, V, F, lines):\n",
    "    cars = pd.DataFrame()\n",
    "    raw_data = []\n",
    "    for v in range(S+1,V+S+1):\n",
    "        data = {}\n",
    "        elems = list(map(str, lines[v].strip().split(\" \")))\n",
    "        data['P'] = int(elems[0])\n",
    "#         for p in range(data['P']):\n",
    "#             data['street_'+str(p+1)] = elems[p+1]\n",
    "        data['all_streets'] = elems[1:]\n",
    "        raw_data.append(data)     \n",
    "    cars = cars.append(raw_data, ignore_index=True)\n",
    "    return cars"
   ]
  },
  {
   "cell_type": "code",
   "execution_count": 168,
   "metadata": {},
   "outputs": [],
   "source": [
    "D, I, S, V, F = file_reader(path,filename)\n",
    "cars = car_reader(D, I, S, V, F)"
   ]
  },
  {
   "cell_type": "code",
   "execution_count": 169,
   "metadata": {},
   "outputs": [
    {
     "data": {
      "text/html": [
       "<div>\n",
       "<style scoped>\n",
       "    .dataframe tbody tr th:only-of-type {\n",
       "        vertical-align: middle;\n",
       "    }\n",
       "\n",
       "    .dataframe tbody tr th {\n",
       "        vertical-align: top;\n",
       "    }\n",
       "\n",
       "    .dataframe thead th {\n",
       "        text-align: right;\n",
       "    }\n",
       "</style>\n",
       "<table border=\"1\" class=\"dataframe\">\n",
       "  <thead>\n",
       "    <tr style=\"text-align: right;\">\n",
       "      <th></th>\n",
       "      <th>P</th>\n",
       "      <th>all_streets</th>\n",
       "    </tr>\n",
       "  </thead>\n",
       "  <tbody>\n",
       "    <tr>\n",
       "      <th>0</th>\n",
       "      <td>4</td>\n",
       "      <td>[rue-de-londres, rue-d-amsterdam, rue-de-mosco...</td>\n",
       "    </tr>\n",
       "    <tr>\n",
       "      <th>1</th>\n",
       "      <td>3</td>\n",
       "      <td>[rue-d-athenes, rue-de-moscou, rue-de-londres]</td>\n",
       "    </tr>\n",
       "  </tbody>\n",
       "</table>\n",
       "</div>"
      ],
      "text/plain": [
       "   P                                        all_streets\n",
       "0  4  [rue-de-londres, rue-d-amsterdam, rue-de-mosco...\n",
       "1  3     [rue-d-athenes, rue-de-moscou, rue-de-londres]"
      ]
     },
     "execution_count": 169,
     "metadata": {},
     "output_type": "execute_result"
    }
   ],
   "source": [
    "cars"
   ]
  },
  {
   "cell_type": "markdown",
   "metadata": {},
   "source": [
    "# Fuck it"
   ]
  },
  {
   "cell_type": "markdown",
   "metadata": {},
   "source": [
    "## Método 1: Solo una calle por nodo"
   ]
  },
  {
   "cell_type": "code",
   "execution_count": 220,
   "metadata": {},
   "outputs": [],
   "source": [
    "def only_the_one(filename):\n",
    "    '''\n",
    "    Método 1: Nos quedamos solo con 1 calle random \n",
    "    por cada nodo fin (E) y la ponemos en verde.\n",
    "    '''\n",
    "    D, I, S, V, F, lines = file_reader(path,filename)\n",
    "    streets = street_reader(D, I, S, V, F, lines)\n",
    "    \n",
    "    streets_solo_1 = streets.drop_duplicates(subset=['E'])\n",
    "    \n",
    "    is_n = streets_solo_1['E'].value_counts()\n",
    "    \n",
    "    with open(path_out+filename+'.out', \"w\") as the_file:\n",
    "        the_file.write(f\"{len(streets_solo_1)} \\n\")\n",
    "        for n in streets_solo_1['E'].unique():\n",
    "            the_file.write(f\"{n} \\n\")\n",
    "            the_file.write(f\"{is_n[n]} \\n\")\n",
    "            for s_e in streets_solo_1[streets_solo_1['E']==n].to_numpy():\n",
    "                the_file.write(f\"{s_e[2]+' '+str(D)} \\n\")"
   ]
  },
  {
   "cell_type": "code",
   "execution_count": 221,
   "metadata": {},
   "outputs": [
    {
     "name": "stderr",
     "output_type": "stream",
     "text": [
      "100%|██████████████████████████████████████████| 5/5 [00:00<00:00, 5006.33it/s]\n",
      "100%|██████████████████████████████████| 9102/9102 [00:00<00:00, 379224.74it/s]"
     ]
    },
    {
     "name": "stdout",
     "output_type": "stream",
     "text": [
      "PROCESANDO FICHERO -> a.txt\n",
      "PROCESANDO FICHERO -> b.txt\n"
     ]
    },
    {
     "name": "stderr",
     "output_type": "stream",
     "text": [
      "\n",
      "100%|████████████████████████████████| 35030/35030 [00:00<00:00, 515296.42it/s]"
     ]
    },
    {
     "name": "stdout",
     "output_type": "stream",
     "text": [
      "PROCESANDO FICHERO -> c.txt\n"
     ]
    },
    {
     "name": "stderr",
     "output_type": "stream",
     "text": [
      "\n",
      " 53%|█████████████████               | 51317/95928 [00:00<00:00, 508092.35it/s]"
     ]
    },
    {
     "name": "stdout",
     "output_type": "stream",
     "text": [
      "PROCESANDO FICHERO -> d.txt\n"
     ]
    },
    {
     "name": "stderr",
     "output_type": "stream",
     "text": [
      "100%|████████████████████████████████| 95928/95928 [00:00<00:00, 515742.30it/s]\n",
      "100%|████████████████████████████████████| 998/998 [00:00<00:00, 332928.93it/s]"
     ]
    },
    {
     "name": "stdout",
     "output_type": "stream",
     "text": [
      "PROCESANDO FICHERO -> e.txt\n"
     ]
    },
    {
     "name": "stderr",
     "output_type": "stream",
     "text": [
      "\n",
      "100%|████████████████████████████████| 10000/10000 [00:00<00:00, 500680.90it/s]"
     ]
    },
    {
     "name": "stdout",
     "output_type": "stream",
     "text": [
      "PROCESANDO FICHERO -> f.txt\n"
     ]
    },
    {
     "name": "stderr",
     "output_type": "stream",
     "text": [
      "\n"
     ]
    }
   ],
   "source": [
    "## Ejecutar el método\n",
    "path_out = path+'out/metodo_1/'\n",
    "for FILE in os.listdir(path):\n",
    "    if not FILE.endswith(\".txt\"):\n",
    "        continue\n",
    "        \n",
    "    print(f\"PROCESANDO FICHERO -> {FILE}\")\n",
    "    \n",
    "    only_the_one(FILE)"
   ]
  },
  {
   "cell_type": "markdown",
   "metadata": {},
   "source": [
    "## Método 2: ¿?"
   ]
  },
  {
   "cell_type": "code",
   "execution_count": 224,
   "metadata": {},
   "outputs": [],
   "source": [
    "D, I, S, V, F, lines = file_reader(path,'b.txt')"
   ]
  },
  {
   "cell_type": "code",
   "execution_count": 225,
   "metadata": {},
   "outputs": [
    {
     "name": "stderr",
     "output_type": "stream",
     "text": [
      "100%|██████████████████████████████████| 9102/9102 [00:00<00:00, 350034.89it/s]\n"
     ]
    }
   ],
   "source": [
    "streets = street_reader(D, I, S, V, F, lines)"
   ]
  },
  {
   "cell_type": "code",
   "execution_count": 226,
   "metadata": {},
   "outputs": [],
   "source": [
    "street_dict = {i:0 for i in streets['street_name'].unique()}"
   ]
  },
  {
   "cell_type": "code",
   "execution_count": 228,
   "metadata": {},
   "outputs": [
    {
     "data": {
      "text/plain": [
       "0"
      ]
     },
     "execution_count": 228,
     "metadata": {},
     "output_type": "execute_result"
    }
   ],
   "source": [
    "street_dict['bjfg-dic']"
   ]
  },
  {
   "cell_type": "code",
   "execution_count": 179,
   "metadata": {},
   "outputs": [],
   "source": [
    "D, I, S, V, F = file_reader(path,filename)\n",
    "cars = car_reader(D, I, S, V, F)"
   ]
  },
  {
   "cell_type": "code",
   "execution_count": 184,
   "metadata": {},
   "outputs": [],
   "source": [
    "for car_st in cars['all_streets']:\n",
    "    for st in car_st:\n",
    "        street_dict[st] += 1"
   ]
  },
  {
   "cell_type": "code",
   "execution_count": 195,
   "metadata": {},
   "outputs": [],
   "source": [
    "street_dict['rue-d-amsterdam']=4"
   ]
  },
  {
   "cell_type": "code",
   "execution_count": 200,
   "metadata": {},
   "outputs": [
    {
     "data": {
      "text/plain": [
       "{'rue-de-londres': 2,\n",
       " 'rue-d-amsterdam': 4,\n",
       " 'rue-d-athenes': 1,\n",
       " 'rue-de-rome': 1,\n",
       " 'rue-de-moscou': 2}"
      ]
     },
     "execution_count": 200,
     "metadata": {},
     "output_type": "execute_result"
    }
   ],
   "source": [
    "street_dict"
   ]
  },
  {
   "cell_type": "code",
   "execution_count": 201,
   "metadata": {},
   "outputs": [],
   "source": [
    "streets['street_count'] = streets['street_name'].map(street_dict)"
   ]
  },
  {
   "cell_type": "code",
   "execution_count": 202,
   "metadata": {},
   "outputs": [],
   "source": [
    "streets = streets.sort_values(['street_count'],ascending=False)"
   ]
  },
  {
   "cell_type": "code",
   "execution_count": 203,
   "metadata": {},
   "outputs": [],
   "source": [
    "streets_best = streets.drop_duplicates(subset=['E'])"
   ]
  },
  {
   "cell_type": "code",
   "execution_count": 204,
   "metadata": {},
   "outputs": [
    {
     "data": {
      "text/html": [
       "<div>\n",
       "<style scoped>\n",
       "    .dataframe tbody tr th:only-of-type {\n",
       "        vertical-align: middle;\n",
       "    }\n",
       "\n",
       "    .dataframe tbody tr th {\n",
       "        vertical-align: top;\n",
       "    }\n",
       "\n",
       "    .dataframe thead th {\n",
       "        text-align: right;\n",
       "    }\n",
       "</style>\n",
       "<table border=\"1\" class=\"dataframe\">\n",
       "  <thead>\n",
       "    <tr style=\"text-align: right;\">\n",
       "      <th></th>\n",
       "      <th>B</th>\n",
       "      <th>E</th>\n",
       "      <th>street_name</th>\n",
       "      <th>L</th>\n",
       "      <th>street_count</th>\n",
       "    </tr>\n",
       "  </thead>\n",
       "  <tbody>\n",
       "    <tr>\n",
       "      <th>1</th>\n",
       "      <td>0</td>\n",
       "      <td>1</td>\n",
       "      <td>rue-d-amsterdam</td>\n",
       "      <td>1</td>\n",
       "      <td>4</td>\n",
       "    </tr>\n",
       "    <tr>\n",
       "      <th>0</th>\n",
       "      <td>2</td>\n",
       "      <td>0</td>\n",
       "      <td>rue-de-londres</td>\n",
       "      <td>1</td>\n",
       "      <td>2</td>\n",
       "    </tr>\n",
       "    <tr>\n",
       "      <th>4</th>\n",
       "      <td>1</td>\n",
       "      <td>2</td>\n",
       "      <td>rue-de-moscou</td>\n",
       "      <td>3</td>\n",
       "      <td>2</td>\n",
       "    </tr>\n",
       "    <tr>\n",
       "      <th>3</th>\n",
       "      <td>2</td>\n",
       "      <td>3</td>\n",
       "      <td>rue-de-rome</td>\n",
       "      <td>2</td>\n",
       "      <td>1</td>\n",
       "    </tr>\n",
       "  </tbody>\n",
       "</table>\n",
       "</div>"
      ],
      "text/plain": [
       "   B  E      street_name  L  street_count\n",
       "1  0  1  rue-d-amsterdam  1             4\n",
       "0  2  0   rue-de-londres  1             2\n",
       "4  1  2    rue-de-moscou  3             2\n",
       "3  2  3      rue-de-rome  2             1"
      ]
     },
     "execution_count": 204,
     "metadata": {},
     "output_type": "execute_result"
    }
   ],
   "source": [
    "streets_best"
   ]
  },
  {
   "cell_type": "code",
   "execution_count": 239,
   "metadata": {},
   "outputs": [],
   "source": [
    "def m_2(filename):\n",
    "    D, I, S, V, F, lines = file_reader(path,filename)\n",
    "    streets = street_reader(D, I, S, V, F, lines)\n",
    "    street_dict = {i:0 for i in streets['street_name'].unique()}\n",
    "    cars = car_reader(D, I, S, V, F, lines)\n",
    "    for car_st in tqdm(cars['all_streets']):\n",
    "        for st in car_st:\n",
    "            street_dict[st] += 1\n",
    "        streets['street_count'] = streets['street_name'].map(street_dict)\n",
    "        streets = streets.sort_values(['street_count'],ascending=False)\n",
    "        streets_best = streets.drop_duplicates(subset=['E'])\n",
    "    \n",
    "    is_n = streets_best['E'].value_counts()\n",
    "    \n",
    "    with open(path_out+filename+'.out', \"w\") as the_file:\n",
    "        the_file.write(f\"{len(streets_best)} \\n\")\n",
    "        for n in tqdm(streets_best['E'].unique()):\n",
    "            the_file.write(f\"{n} \\n\")\n",
    "            the_file.write(f\"{is_n[n]} \\n\")\n",
    "            for s_e in streets_best[streets_best['E']==n].to_numpy():\n",
    "                the_file.write(f\"{s_e[2]+' '+str(D)} \\n\")"
   ]
  },
  {
   "cell_type": "code",
   "execution_count": 237,
   "metadata": {},
   "outputs": [
    {
     "name": "stderr",
     "output_type": "stream",
     "text": [
      "100%|██████████████████████████████████| 9102/9102 [00:00<00:00, 479087.36it/s]\n",
      "100%|██████████████████████████████████████| 1000/1000 [00:12<00:00, 78.71it/s]\n",
      "100%|████████████████████████████████████| 7073/7073 [00:03<00:00, 1813.13it/s]\n"
     ]
    }
   ],
   "source": [
    "m_2('b.txt')"
   ]
  },
  {
   "cell_type": "code",
   "execution_count": 240,
   "metadata": {
    "scrolled": false
   },
   "outputs": [
    {
     "name": "stderr",
     "output_type": "stream",
     "text": [
      "100%|████████████████████████████████████████████████████| 5/5 [00:00<?, ?it/s]\n",
      "100%|███████████████████████████████████████████| 2/2 [00:00<00:00, 285.84it/s]\n",
      "100%|███████████████████████████████████████████| 4/4 [00:00<00:00, 999.83it/s]\n",
      "100%|██████████████████████████████████| 9102/9102 [00:00<00:00, 479093.37it/s]\n",
      "  0%|                                                 | 0/1000 [00:00<?, ?it/s]"
     ]
    },
    {
     "name": "stdout",
     "output_type": "stream",
     "text": [
      "PROCESANDO FICHERO -> a.txt\n",
      "PROCESANDO FICHERO -> b.txt\n"
     ]
    },
    {
     "name": "stderr",
     "output_type": "stream",
     "text": [
      "100%|██████████████████████████████████████| 1000/1000 [00:12<00:00, 78.72it/s]\n",
      "100%|████████████████████████████████████| 7073/7073 [00:03<00:00, 1793.81it/s]\n",
      "100%|████████████████████████████████| 35030/35030 [00:00<00:00, 538968.07it/s]\n",
      "  0%|                                                 | 0/1000 [00:00<?, ?it/s]"
     ]
    },
    {
     "name": "stdout",
     "output_type": "stream",
     "text": [
      "PROCESANDO FICHERO -> c.txt\n"
     ]
    },
    {
     "name": "stderr",
     "output_type": "stream",
     "text": [
      "100%|██████████████████████████████████████| 1000/1000 [00:55<00:00, 18.16it/s]\n",
      "100%|██████████████████████████████████| 10000/10000 [00:05<00:00, 1808.34it/s]\n",
      "100%|████████████████████████████████| 95928/95928 [00:00<00:00, 518533.90it/s]"
     ]
    },
    {
     "name": "stdout",
     "output_type": "stream",
     "text": [
      "PROCESANDO FICHERO -> d.txt\n"
     ]
    },
    {
     "name": "stderr",
     "output_type": "stream",
     "text": [
      "\n",
      "100%|██████████████████████████████████████| 1000/1000 [02:47<00:00,  5.97it/s]\n",
      "100%|████████████████████████████████████| 8000/8000 [00:04<00:00, 1816.53it/s]\n",
      "100%|████████████████████████████████████| 998/998 [00:00<00:00, 332717.22it/s]\n",
      "  4%|█▌                                     | 39/1000 [00:00<00:02, 382.35it/s]"
     ]
    },
    {
     "name": "stdout",
     "output_type": "stream",
     "text": [
      "PROCESANDO FICHERO -> e.txt\n"
     ]
    },
    {
     "name": "stderr",
     "output_type": "stream",
     "text": [
      "100%|█████████████████████████████████████| 1000/1000 [00:02<00:00, 370.78it/s]\n",
      "100%|██████████████████████████████████████| 500/500 [00:00<00:00, 1811.61it/s]\n",
      "100%|████████████████████████████████| 10000/10000 [00:00<00:00, 500024.32it/s]\n",
      "  0%|                                                 | 0/1000 [00:00<?, ?it/s]"
     ]
    },
    {
     "name": "stdout",
     "output_type": "stream",
     "text": [
      "PROCESANDO FICHERO -> f.txt\n"
     ]
    },
    {
     "name": "stderr",
     "output_type": "stream",
     "text": [
      "100%|██████████████████████████████████████| 1000/1000 [00:13<00:00, 72.02it/s]\n",
      "100%|████████████████████████████████████| 1662/1662 [00:00<00:00, 1812.44it/s]\n"
     ]
    }
   ],
   "source": [
    "## Ejecutar el método\n",
    "path_out = path+'out/metodo_2/'\n",
    "for FILE in os.listdir(path):\n",
    "    if not FILE.endswith(\".txt\"):\n",
    "        continue\n",
    "        \n",
    "    print(f\"PROCESANDO FICHERO -> {FILE}\")\n",
    "    \n",
    "    m_2(FILE)"
   ]
  },
  {
   "cell_type": "code",
   "execution_count": null,
   "metadata": {},
   "outputs": [],
   "source": []
  }
 ],
 "metadata": {
  "kernelspec": {
   "display_name": "Python [conda env:ia_aq]",
   "language": "python",
   "name": "conda-env-ia_aq-py"
  },
  "language_info": {
   "codemirror_mode": {
    "name": "ipython",
    "version": 3
   },
   "file_extension": ".py",
   "mimetype": "text/x-python",
   "name": "python",
   "nbconvert_exporter": "python",
   "pygments_lexer": "ipython3",
   "version": "3.7.6"
  }
 },
 "nbformat": 4,
 "nbformat_minor": 4
}
