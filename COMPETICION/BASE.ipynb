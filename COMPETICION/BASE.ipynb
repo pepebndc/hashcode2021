{
 "cells": [
  {
   "cell_type": "code",
   "execution_count": null,
   "metadata": {},
   "outputs": [],
   "source": [
    "import pandas as pd\n",
    "import numpy as np\n",
    "from tqdm import tqdm\n",
    "import os\n",
    "import sklearn as skl\n",
    "import sys"
   ]
  },
  {
   "cell_type": "code",
   "execution_count": null,
   "metadata": {},
   "outputs": [],
   "source": [
    "np.set_printoptions(threshold=sys.maxsize)"
   ]
  },
  {
   "cell_type": "code",
   "execution_count": null,
   "metadata": {},
   "outputs": [],
   "source": [
    "def load_df(filename):\n",
    "    print(\"#\" * 25)\n",
    "    print(f\"CARGANDO DF\")\n",
    "    \n",
    "    with open(filename, \"r\") as f:\n",
    "        lines = f.readlines()\n",
    "    M, T2, T3, T4 = list(map(int, lines[0].strip().split(\" \")))\n",
    "    \n",
    "    pizza_id = 0\n",
    "    \n",
    "    df = pd.DataFrame()\n",
    "    \n",
    "    raw_data = []\n",
    "    for line_ix in tqdm(range(1, len(lines))):\n",
    "        tokens = list(map(str, lines[line_ix].strip().split(\" \")))\n",
    "        n_ing = int(tokens[0])\n",
    "        ing = tokens[1:]\n",
    "        this_id_pizza = pizza_id\n",
    "        pizza_id += 1\n",
    "        \n",
    "        data = {}\n",
    "        data[\"pizza_id\"]=this_id_pizza\n",
    "        data[\"n_ing\"]=n_ing\n",
    "    \n",
    "        for i in ing:\n",
    "            data[i] = 1\n",
    "            \n",
    "        raw_data.append(data)\n",
    "    \n",
    "    df = df.append(raw_data, ignore_index=True)\n",
    "       \n",
    "    df = df.set_index(\"pizza_id\")\n",
    "    df = df.fillna(0)\n",
    "    \n",
    "    print(\"DF cargado\")\n",
    "    my_dict = {\n",
    "        \"df\":df,\n",
    "    }\n",
    "    return my_dict"
   ]
  },
  {
   "cell_type": "code",
   "execution_count": null,
   "metadata": {},
   "outputs": [],
   "source": [
    "load_dict = load_df(\"b_little_bit_of_everything.in\")"
   ]
  },
  {
   "cell_type": "code",
   "execution_count": null,
   "metadata": {},
   "outputs": [],
   "source": [
    "for FILE  in os.listdir(\".\"):\n",
    "    if not FILE.endswith(\".in\"):\n",
    "        continue\n",
    "        \n",
    "    print(f\"PROCESANDO FICHERO -> {FILE}\")\n",
    "        \n",
    "    load_dict=load_df(FILE)\n",
    "    s = solver(load_dict)\n",
    "    output_funct(s, f\"{FILE}.out\")"
   ]
  }
 ],
 "metadata": {
  "kernelspec": {
   "display_name": "Python 3",
   "language": "python",
   "name": "python3"
  },
  "language_info": {
   "codemirror_mode": {
    "name": "ipython",
    "version": 3
   },
   "file_extension": ".py",
   "mimetype": "text/x-python",
   "name": "python",
   "nbconvert_exporter": "python",
   "pygments_lexer": "ipython3",
   "version": "3.7.6"
  }
 },
 "nbformat": 4,
 "nbformat_minor": 4
}
